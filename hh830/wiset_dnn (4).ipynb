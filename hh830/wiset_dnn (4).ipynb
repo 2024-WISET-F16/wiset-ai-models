{
 "cells": [
  {
   "cell_type": "code",
   "execution_count": 1,
   "id": "d468f6f2-613b-45f7-aaa2-907365f8f32b",
   "metadata": {},
   "outputs": [],
   "source": [
    "import torch\n",
    "import torch.nn as nn\n",
    "import torch.optim as optim\n",
    "import pandas as pd\n",
    "import numpy as np\n",
    "from torch.utils.data import DataLoader, TensorDataset\n",
    "import copy # 조기종료를 위해 깊은 복사를 사용을 위해\n",
    "import matplotlib.pyplot as plt\n",
    "from sklearn.model_selection import train_test_split\n",
    "\n",
    "\n",
    "# PyTorch 출력 형식 조정\n",
    "torch.set_printoptions(precision=8, threshold=10000, edgeitems=3)"
   ]
  },
  {
   "cell_type": "code",
   "execution_count": 2,
   "id": "70234aac-05b7-4f40-b5d0-c385f5093ecd",
   "metadata": {},
   "outputs": [],
   "source": [
    "# num_workers 병렬처리를 위해 윈도우에서 사용\n",
    "import torch.multiprocessing as mp\n",
    "import os\n",
    "\n",
    "# 환경 변수 설정\n",
    "os.environ['OMP_NUM_THREADS'] = '1'\n",
    "mp.set_start_method('spawn', force=True)"
   ]
  },
  {
   "cell_type": "code",
   "execution_count": 3,
   "id": "0dcffc63-d017-449c-81ec-d2c7ea4d9748",
   "metadata": {},
   "outputs": [
    {
     "name": "stdout",
     "output_type": "stream",
     "text": [
      "Trains 데이터 프레임의 행 수: 256421\n",
      "Tests 데이터 프레임의 행 수: 8261\n",
      "데이터가 올바르게 로드되었습니다.\n"
     ]
    }
   ],
   "source": [
    "train_data = \"C:/Users/admin/Downloads/wiset_single_sensor_model_train_data_3.xlsx\"\n",
    "test_data = \"C:/Users/admin/Downloads/test_data_20240407.xlsx\"\n",
    "\n",
    "# 엑셀데이터 데이터프레임으로 읽어오기\n",
    "trains_df = pd.read_excel(train_data)\n",
    "tests_df = pd.read_excel(test_data)\n",
    "\n",
    "# 데이터 프레임의 크기 확인\n",
    "train_rows = trains_df.shape[0]\n",
    "test_rows = tests_df.shape[0]\n",
    "\n",
    "# 불러온 데이터의 행 수 출력\n",
    "print(f'Trains 데이터 프레임의 행 수: {train_rows}')\n",
    "print(f'Tests 데이터 프레임의 행 수: {test_rows}')\n",
    "\n",
    "# 조건 확인\n",
    "if train_rows == 256421 and test_rows == 8261:\n",
    "    print(\"데이터가 올바르게 로드되었습니다.\")\n",
    "else:\n",
    "    print(\"데이터 로딩에 문제가 있습니다.\")\n",
    "    \n",
    "# train 데이터프레임의 모든 object 타입 열을 숫자로 변환\n",
    "for col in trains_df.select_dtypes(include=['object']).columns:\n",
    "    trains_df[col] = pd.to_numeric(trains_df[col], errors='coerce')\n",
    "    \n",
    "# test 데이터프레임의 모든 object 타입 열을 숫자로 변환\n",
    "for col in tests_df.select_dtypes(include=['object']).columns:\n",
    "    tests_df[col] = pd.to_numeric(tests_df[col], errors='coerce')"
   ]
  },
  {
   "cell_type": "code",
   "execution_count": 4,
   "id": "26c1621f-4e8e-43a0-a063-8f6849d068b7",
   "metadata": {},
   "outputs": [],
   "source": [
    "# 불필요한 열 제거\n",
    "trains = trains_df.drop(columns=['Unnamed: 0', 'datetime', 'point'])\n",
    "tests = tests_df.drop(columns=['datetime', 'point'])"
   ]
  },
  {
   "cell_type": "code",
   "execution_count": 5,
   "id": "724c586a-d657-4676-b9de-151677875aff",
   "metadata": {},
   "outputs": [],
   "source": [
    "# 거리 특성 추가\n",
    "trains['distance_from_0_0'] = np.sqrt((trains['x'] - 0)**2 + (trains['y'] - 0)**2)\n",
    "tests['distance_from_0_0'] = np.sqrt((tests['x'] - 0)**2 + (tests['y'] - 0)**2)"
   ]
  },
  {
   "cell_type": "code",
   "execution_count": 6,
   "id": "44e138f0-4cb3-4b97-be80-b715bfdb91c8",
   "metadata": {},
   "outputs": [
    {
     "name": "stdout",
     "output_type": "stream",
     "text": [
      "Number of zeros in train_target: 2\n",
      "Number of zeros in val_target: 0\n",
      "Number of zeros in test_target: 0\n",
      "train_target dtype: torch.float32\n",
      "val_target dtype: torch.float32\n",
      "test_target dtype: torch.float32\n",
      "train_target shape: torch.Size([205136])\n",
      "val_target shape: torch.Size([51285])\n",
      "test_target shape: torch.Size([8261])\n"
     ]
    }
   ],
   "source": [
    "# input과 target 데이터 나누기 - train\n",
    "train_input = trains.drop(columns=['illum'], axis=1).to_numpy()\n",
    "train_target = trains['illum'].to_numpy()\n",
    "\n",
    "# test\n",
    "test_input = tests.drop(columns=['illum'], axis=1).to_numpy()\n",
    "test_target = tests['illum'].to_numpy()\n",
    "\n",
    "# train 데이터를 훈련 데이터와 검증 데이터로 분할\n",
    "train_input, val_input, train_target, val_target = train_test_split(train_input, train_target, test_size=0.2, random_state=42)\n",
    "\n",
    "# Numpy 배열의 데이터 타입 변환\n",
    "train_input = train_input.astype(np.float32)\n",
    "train_target = train_target.astype(np.float32)\n",
    "val_input = val_input.astype(np.float32)\n",
    "val_target = val_target.astype(np.float32)\n",
    "test_input = test_input.astype(np.float32)\n",
    "test_target = test_target.astype(np.float32)\n",
    "\n",
    "# 파이토치 모델 쓰려면 df or numpy -> Pytorch 텐서로 변환해야 됨\n",
    "train_input = torch.tensor(train_input, dtype=torch.float32)\n",
    "train_target = torch.tensor(train_target, dtype=torch.float32)\n",
    "val_input = torch.tensor(val_input, dtype=torch.float32)\n",
    "val_target = torch.tensor(val_target, dtype=torch.float32)\n",
    "test_input = torch.tensor(test_input, dtype=torch.float32)\n",
    "test_target = torch.tensor(test_target, dtype=torch.float32)\n",
    "\n",
    "# 각 텐서에서 0 값의 개수 확인\n",
    "num_zeros_train = torch.sum(train_target == 0).item()\n",
    "num_zeros_val = torch.sum(val_target == 0).item()\n",
    "num_zeros_test = torch.sum(test_target == 0).item()\n",
    "\n",
    "print(f\"Number of zeros in train_target: {num_zeros_train}\")\n",
    "print(f\"Number of zeros in val_target: {num_zeros_val}\")\n",
    "print(f\"Number of zeros in test_target: {num_zeros_test}\")\n",
    "\n",
    "# 각 텐서의 dtype 확인\n",
    "print(f\"train_target dtype: {train_target.dtype}\")\n",
    "print(f\"val_target dtype: {val_target.dtype}\")\n",
    "print(f\"test_target dtype: {test_target.dtype}\")\n",
    "\n",
    "# 각 텐서의 shape 확인\n",
    "print(f\"train_target shape: {train_target.shape}\")\n",
    "print(f\"val_target shape: {val_target.shape}\")\n",
    "print(f\"test_target shape: {test_target.shape}\")"
   ]
  },
  {
   "cell_type": "code",
   "execution_count": 7,
   "id": "dca1e75f-7738-4b3c-b8a2-cbf5a0385d7f",
   "metadata": {},
   "outputs": [
    {
     "name": "stdout",
     "output_type": "stream",
     "text": [
      "tensor([494.54037476, 326.48706055,  10.41145897,  ...,  55.51983643,\n",
      "         76.86361694, 300.33477783], device='cuda:0')\n"
     ]
    }
   ],
   "source": [
    "# GPU 사용 설정\n",
    "device = torch.device(\"cuda\" if torch.cuda.is_available() else \"cpu\")\n",
    "train_input, train_target = train_input.to(device), train_target.to(device)\n",
    "val_input, val_target = val_input.to(device), val_target.to(device)\n",
    "test_input, test_target = test_input.to(device), test_target.to(device)\n",
    "\n",
    "print(train_target)"
   ]
  },
  {
   "cell_type": "code",
   "execution_count": 8,
   "id": "fa55015e-c855-489f-9df4-f15753dc5641",
   "metadata": {},
   "outputs": [],
   "source": [
    "def worker_init_fn(worker_id):\n",
    "    # 각 worker가 초기화될 때 설정할 내용 (필요시 수정)\n",
    "    worker_info = torch.utils.data.get_worker_info()\n",
    "    if worker_info is not None:\n",
    "        np.random.seed(worker_info.seed % 2**32)\n",
    "    print(f\"Worker {worker_id} initialized.\")"
   ]
  },
  {
   "cell_type": "code",
   "execution_count": 9,
   "id": "32493795-ce7a-41bd-b1f6-f364dc17d47c",
   "metadata": {},
   "outputs": [
    {
     "name": "stdout",
     "output_type": "stream",
     "text": [
      "(tensor([  58.11999893,  150.64999390,  884.20678711, -120.00000000,\n",
      "          60.00000000,  134.16407776], device='cuda:0'), tensor(494.54037476, device='cuda:0'))\n",
      "tensor([494.54037476, 326.48706055,  10.41145897,  ...,  55.51983643,\n",
      "         76.86361694, 300.33477783], device='cuda:0')\n"
     ]
    }
   ],
   "source": [
    "# 데이터셋과 데이터로더 생성(미니배치)\n",
    "# epoch 너무 느릴 때 데이터를 배치로 나눠 처리하게 하기\n",
    "\n",
    "# 배치 크기 늘리면 에포크 학습시간 단축됨\n",
    "# 너무 크면 메모리 사용량 증가시킴\n",
    "train_dataset = TensorDataset(train_input, train_target)\n",
    "val_dataset = TensorDataset(val_input, val_target)\n",
    "\n",
    "print(train_dataset[0])\n",
    "print(train_target)\n",
    "\n",
    "num_workers=1\n",
    "\n",
    "train_loader = DataLoader(train_dataset, batch_size=8, shuffle=True, num_workers=0)\n",
    "val_loader = DataLoader(val_dataset, batch_size=8, shuffle=False, num_workers=0)\n",
    "#train_loader = DataLoader(train_dataset, batch_size=32, shuffle=True, num_workers=num_workers, pin_memory=True, worker_init_fn=worker_init_fn)\n",
    "#val_loader = DataLoader(val_dataset, batch_size=32, shuffle=False, num_workers=num_workers, pin_memory=True, worker_init_fn=worker_init_fn)\n"
   ]
  },
  {
   "cell_type": "code",
   "execution_count": 10,
   "id": "48033362-532a-4f41-a816-b3dd1ceffe6a",
   "metadata": {},
   "outputs": [
    {
     "name": "stdout",
     "output_type": "stream",
     "text": [
      "Batch 0 targets before moving to device: tensor([213.06816101, 626.27453613, 208.38374329, 371.50259399,  69.04563904,\n",
      "        187.95149231,  24.31603432,   9.37261295], device='cuda:0')\n",
      "Batch 0 targets after moving to device: tensor([213.06816101, 626.27453613, 208.38374329, 371.50259399,  69.04563904,\n",
      "        187.95149231,  24.31603432,   9.37261295], device='cuda:0')\n",
      "Batch targets shape: torch.Size([8])\n",
      "Batch 0 targets after model eval: tensor([213.06816101, 626.27453613, 208.38374329, 371.50259399,  69.04563904,\n",
      "        187.95149231,  24.31603432,   9.37261295], device='cuda:0')\n",
      "Train target after DataLoader with num_workers=1: tensor([494.54037476, 326.48706055,  10.41145897,  27.11094475, 272.62899780,\n",
      "        817.96411133, 339.71627808, 306.31503296, 354.50357056, 277.76501465],\n",
      "       device='cuda:0')\n"
     ]
    }
   ],
   "source": [
    "# DataLoader를 사용하여 예시 배치 데이터를 가져오기\n",
    "\n",
    "try:\n",
    "    for i, (batch_inputs1, batch_targets1) in enumerate(train_loader):\n",
    "        print(f\"Batch {i} targets before moving to device: {batch_targets1[:10]}\")\n",
    "        batch_inputs1, batch_targets1 = batch_inputs1.to('cuda' if torch.cuda.is_available() else 'cpu'), batch_targets1.to('cuda' if torch.cuda.is_available() else 'cpu')\n",
    "        print(f\"Batch {i} targets after moving to device: {batch_targets1[:10]}\")\n",
    "        # 모델 예측 (모델 정의가 필요합니다)\n",
    "        # model.eval()\n",
    "        # with torch.no_grad():\n",
    "        #     outputs = model(batch_inputs1)\n",
    "        # print(f'Outputs shape: {outputs.shape}')\n",
    "        print(f'Batch targets shape: {batch_targets1.shape}')\n",
    "        print(f\"Batch {i} targets after model eval: {batch_targets1[:10]}\")\n",
    "        break\n",
    "except Exception as e:\n",
    "    print(f\"An error occurred: {e}\")\n",
    "\n",
    "print(f\"Train target after DataLoader with num_workers={num_workers}: {train_target[:10]}\")"
   ]
  },
  {
   "cell_type": "code",
   "execution_count": 11,
   "id": "e48ccb48-27cf-4da5-b44c-98065ee97b73",
   "metadata": {},
   "outputs": [],
   "source": [
    "# dnn 모델\n",
    "class dnn(nn.Module):\n",
    "    # 생성자에서 모델의 구조 정의\n",
    "    def __init__(self):\n",
    "        # nn.Module 클래스를 상속받아 super로 nn.Module의 초기화 메소드 호출\n",
    "        super(dnn, self).__init__()\n",
    "        # 입력층(은닉층1) 입력 6개 - elevation, azimuth, new_illum_11, x, y, distance\n",
    "        self.fc1 = nn.Linear(train_input.shape[1], 256)\n",
    "        \n",
    "        # droopout 과대적합 방지 - 학습 중에만 활성화(평가, 예측 시 비활성화)\n",
    "        # 은닉층 뒤에 추가됨\n",
    "        #self.dropout1 = nn.Dropout(0.5) \n",
    "        \n",
    "        # 64개의 출력 뉴런에 대해 배치 정규화\n",
    "        # 각 층에 입력되는 데이터의 분포를 정규화하여 학습 안정화, 속도 높임\n",
    "        # 각 층 뒤, 활성함수 이전에 사용\n",
    "        #self.bn1 = nn.BatchNorm1d(64)\n",
    "    \n",
    "        # 은닉층과 배치 정규화\n",
    "        self.fc2 = nn.Linear(256, 512)\n",
    "        #self.bn2 = nn.BatchNorm1d(128)\n",
    "        \n",
    "        self.fc3 = nn.Linear(512, 256)\n",
    "        #self.bn3 = nn.BatchNorm1d(64)\n",
    "\n",
    "        self.fc4 = nn.Linear(256, 128)\n",
    "        #self.bn4 = nn.BatchNorm1d(32)\n",
    "        \n",
    "        # 출력층 출력 1개\n",
    "        self.fc5 = nn.Linear(128, 1)\n",
    "        self.dropout = nn.Dropout(0.5)\n",
    "        \n",
    "        # forward: 각 계층 연결방식, 활성화 함수, 추가 처리 적용\n",
    "        # fc1 선형계층 -> bn1 배치활성화 -> relu로 비선형성 적용\n",
    "    def forward(self, x):\n",
    "        # 활성화 함수 relu 사용 (비교되는거 - 시그모이드)\n",
    "        x = torch.relu(self.fc1(x))\n",
    "        #x = self.dropout(x)\n",
    "            \n",
    "        x = torch.relu(self.fc2(x))\n",
    "        #x = self.dropout(x)\n",
    "            \n",
    "        x = torch.relu(self.fc3(x))\n",
    "        #x = self.dropout(x)\n",
    "\n",
    "        x = torch.relu(self.fc4(x))\n",
    "        x = self.dropout(x)\n",
    "        \n",
    "        x = self.fc5(x) # 출력층\n",
    "            \n",
    "        return x"
   ]
  },
  {
   "cell_type": "code",
   "execution_count": 12,
   "id": "34e2a0b2-b0ad-485c-8225-3f2a084477bb",
   "metadata": {},
   "outputs": [
    {
     "data": {
      "text/plain": [
       "tensor([494.54037476, 326.48706055,  10.41145897,  ...,  55.51983643,\n",
       "         76.86361694, 300.33477783], device='cuda:0')"
      ]
     },
     "execution_count": 12,
     "metadata": {},
     "output_type": "execute_result"
    }
   ],
   "source": [
    "train_target"
   ]
  },
  {
   "cell_type": "code",
   "execution_count": 13,
   "id": "956209d4-5ef5-499b-b7f7-8b9d54424a92",
   "metadata": {},
   "outputs": [
    {
     "name": "stdout",
     "output_type": "stream",
     "text": [
      "6\n",
      "tensor([[  58.11999893,  150.64999390,  884.20678711, -120.00000000,\n",
      "           60.00000000,  134.16407776],\n",
      "        [  48.56999969,  233.60000610,  774.67169189,  120.00000000,\n",
      "          120.00000000,  169.70562744],\n",
      "        [   1.99000001,   65.29000092,   27.32855797, -120.00000000,\n",
      "           60.00000000,  134.16407776],\n",
      "        ...,\n",
      "        [  10.46000004,   83.66000366,  137.01922607, -120.00000000,\n",
      "          120.00000000,  169.70562744],\n",
      "        [  10.18999958,  271.30999756,  151.51042175,    0.00000000,\n",
      "          120.00000000,  120.00000000],\n",
      "        [  29.56999969,  254.50000000,  511.94494629, -120.00000000,\n",
      "          120.00000000,  169.70562744]], device='cuda:0')\n"
     ]
    },
    {
     "data": {
      "text/plain": [
       "dnn(\n",
       "  (fc1): Linear(in_features=6, out_features=256, bias=True)\n",
       "  (fc2): Linear(in_features=256, out_features=512, bias=True)\n",
       "  (fc3): Linear(in_features=512, out_features=256, bias=True)\n",
       "  (fc4): Linear(in_features=256, out_features=128, bias=True)\n",
       "  (fc5): Linear(in_features=128, out_features=1, bias=True)\n",
       "  (dropout): Dropout(p=0.5, inplace=False)\n",
       ")"
      ]
     },
     "execution_count": 13,
     "metadata": {},
     "output_type": "execute_result"
    }
   ],
   "source": [
    "# 모델 생성\n",
    "input_size = train_input.shape[1]\n",
    "print(input_size)\n",
    "print(train_input)\n",
    "model = dnn()\n",
    "model.to(device)"
   ]
  },
  {
   "cell_type": "code",
   "execution_count": 14,
   "id": "58082ed0-1ab6-4834-a0d0-dc4644d8111e",
   "metadata": {},
   "outputs": [
    {
     "data": {
      "text/plain": [
       "tensor([494.54037476, 326.48706055,  10.41145897,  ...,  55.51983643,\n",
       "         76.86361694, 300.33477783], device='cuda:0')"
      ]
     },
     "execution_count": 14,
     "metadata": {},
     "output_type": "execute_result"
    }
   ],
   "source": [
    "train_target"
   ]
  },
  {
   "cell_type": "code",
   "execution_count": 15,
   "id": "4a373f05-9f47-40a7-99a9-f68d9d6d1744",
   "metadata": {},
   "outputs": [
    {
     "data": {
      "text/plain": [
       "dnn(\n",
       "  (fc1): Linear(in_features=6, out_features=256, bias=True)\n",
       "  (fc2): Linear(in_features=256, out_features=512, bias=True)\n",
       "  (fc3): Linear(in_features=512, out_features=256, bias=True)\n",
       "  (fc4): Linear(in_features=256, out_features=128, bias=True)\n",
       "  (fc5): Linear(in_features=128, out_features=1, bias=True)\n",
       "  (dropout): Dropout(p=0.5, inplace=False)\n",
       ")"
      ]
     },
     "execution_count": 15,
     "metadata": {},
     "output_type": "execute_result"
    }
   ],
   "source": [
    "# 가중치 초기화 함수 적용\n",
    "# 각 리니어 레이어의 가중치를 He 방식으로 초기화\n",
    "# 균형 잡힌 학습을 도와줌\n",
    "def initialize_weights(m):\n",
    "    if isinstance(m, nn.Linear):\n",
    "        nn.init.kaiming_normal_(m.weight)\n",
    "\n",
    "model.apply(initialize_weights)"
   ]
  },
  {
   "cell_type": "code",
   "execution_count": 16,
   "id": "c1478aaa-9f54-453d-82a2-d423f5c5120b",
   "metadata": {},
   "outputs": [
    {
     "data": {
      "text/plain": [
       "tensor([494.54037476, 326.48706055,  10.41145897,  ...,  55.51983643,\n",
       "         76.86361694, 300.33477783], device='cuda:0')"
      ]
     },
     "execution_count": 16,
     "metadata": {},
     "output_type": "execute_result"
    }
   ],
   "source": [
    "train_target"
   ]
  },
  {
   "cell_type": "code",
   "execution_count": 17,
   "id": "7c695a87-06bd-4770-8ec7-627c7d2dc0d1",
   "metadata": {},
   "outputs": [],
   "source": [
    "# 손실함수, 옵티마이저\n",
    "criterion = nn.L1Loss() # MAE 손실함수\n",
    "optimizer = optim.Adam(model.parameters(), lr=0.0001, weight_decay=0.01)"
   ]
  },
  {
   "cell_type": "code",
   "execution_count": 18,
   "id": "25ac6c66-a41e-4455-9d1a-fb86c52a3c08",
   "metadata": {},
   "outputs": [
    {
     "data": {
      "text/plain": [
       "tensor([494.54037476, 326.48706055,  10.41145897,  ...,  55.51983643,\n",
       "         76.86361694, 300.33477783], device='cuda:0')"
      ]
     },
     "execution_count": 18,
     "metadata": {},
     "output_type": "execute_result"
    }
   ],
   "source": [
    "train_target"
   ]
  },
  {
   "cell_type": "code",
   "execution_count": 19,
   "id": "faab52ce-59d7-4b16-b3e2-33eb2d611096",
   "metadata": {},
   "outputs": [
    {
     "name": "stdout",
     "output_type": "stream",
     "text": [
      "tensor([130.29284668,  51.19895172, 185.49316406, 198.50073242, 244.21151733,\n",
      "         70.00260162, 345.62939453, 105.12885284], device='cuda:0')\n",
      "Batch 0 targets before model eval: tensor([130.29284668,  51.19895172, 185.49316406, 198.50073242, 244.21151733,\n",
      "         70.00260162, 345.62939453, 105.12885284], device='cuda:0') tensor([130.29284668,  51.19895172, 185.49316406, 198.50073242, 244.21151733,\n",
      "         70.00260162, 345.62939453, 105.12885284], device='cuda:0')\n",
      "Outputs shape: torch.Size([8, 1])\n",
      "Batch targets shape: torch.Size([8])\n",
      "Batch 0 targets after model eval: tensor([130.29284668,  51.19895172, 185.49316406, 198.50073242, 244.21151733,\n",
      "         70.00260162, 345.62939453, 105.12885284], device='cuda:0')\n"
     ]
    }
   ],
   "source": [
    "\n",
    "# DataLoader를 사용하여 예시 배치 데이터를 가져오기\n",
    "for i, (batch_inputs1, batch_targets1) in enumerate(train_loader):\n",
    "    print(batch_targets1[:10])\n",
    "    \n",
    "    # 배치 데이터를 GPU로 이동\n",
    "    batch_inputs, batch_targets = batch_inputs1.to(device), batch_targets1.to(device)\n",
    "    \n",
    "    # 배치 데이터 확인\n",
    "    print(f\"Batch {i} targets before model eval: {batch_targets[:10]} {batch_targets1[:10]}\")\n",
    "    \n",
    "    # 모델 예측\n",
    "    model.eval()\n",
    "    with torch.no_grad():\n",
    "        outputs = model(batch_inputs)\n",
    "    \n",
    "    # 출력 크기와 타깃 크기 확인\n",
    "    print(f'Outputs shape: {outputs.shape}')\n",
    "    print(f'Batch targets shape: {batch_targets.shape}')\n",
    "    \n",
    "    # 배치 데이터 다시 확인\n",
    "    print(f\"Batch {i} targets after model eval: {batch_targets[:10]}\")\n",
    "    \n",
    "    # 한번만 확인하고 루프 종료\n",
    "    break\n"
   ]
  },
  {
   "cell_type": "code",
   "execution_count": 20,
   "id": "c67719ad-8e8a-4b1d-a8f1-06d263b6a31e",
   "metadata": {},
   "outputs": [
    {
     "data": {
      "text/plain": [
       "\"\\n# 예시 배치 데이터\\nbatch_inputs, batch_targets = next(iter(train_loader))\\nbatch_inputs, batch_targets = batch_inputs.to(device), batch_targets.to(device)\\n\\n# 모델 예측\\nmodel.eval()\\nwith torch.no_grad():\\n    outputs = model(batch_inputs)\\n\\n# 출력 크기와 타깃 크기 확인\\nprint(f'Outputs shape: {outputs.shape}')\\nprint(f'Batch targets shape: {batch_targets.shape}')\\n\""
      ]
     },
     "execution_count": 20,
     "metadata": {},
     "output_type": "execute_result"
    }
   ],
   "source": [
    "'''\n",
    "# 예시 배치 데이터\n",
    "batch_inputs, batch_targets = next(iter(train_loader))\n",
    "batch_inputs, batch_targets = batch_inputs.to(device), batch_targets.to(device)\n",
    "\n",
    "# 모델 예측\n",
    "model.eval()\n",
    "with torch.no_grad():\n",
    "    outputs = model(batch_inputs)\n",
    "\n",
    "# 출력 크기와 타깃 크기 확인\n",
    "print(f'Outputs shape: {outputs.shape}')\n",
    "print(f'Batch targets shape: {batch_targets.shape}')\n",
    "'''"
   ]
  },
  {
   "cell_type": "code",
   "execution_count": 21,
   "id": "9f1b6410-cdad-4e15-a795-f2ac426599a5",
   "metadata": {},
   "outputs": [
    {
     "data": {
      "text/plain": [
       "tensor([494.54037476, 326.48706055,  10.41145897,  ...,  55.51983643,\n",
       "         76.86361694, 300.33477783], device='cuda:0')"
      ]
     },
     "execution_count": 21,
     "metadata": {},
     "output_type": "execute_result"
    }
   ],
   "source": [
    "train_target"
   ]
  },
  {
   "cell_type": "code",
   "execution_count": 22,
   "id": "7b72b7ab-7124-4b95-b48b-e9db9dd29584",
   "metadata": {},
   "outputs": [],
   "source": [
    "# 학습률 감소 스케줄러\n",
    "scheduler = optim.lr_scheduler.ReduceLROnPlateau(optimizer, 'min', patience=10, factor=0.5)"
   ]
  },
  {
   "cell_type": "code",
   "execution_count": 23,
   "id": "02dd99b5-fcec-44f8-97f2-82f2b63114aa",
   "metadata": {},
   "outputs": [],
   "source": [
    "# 조기 종료 설정\n",
    "patience = 30  # 성능 향상이 없을 때 기다릴 에포크 수\n",
    "best_loss = float('inf')\n",
    "best_model_wts = copy.deepcopy(model.state_dict())\n",
    "epochs_no_improve = 0"
   ]
  },
  {
   "cell_type": "code",
   "execution_count": 24,
   "id": "502c2f26-b674-4bd6-bc8f-b8127fffd5a1",
   "metadata": {},
   "outputs": [
    {
     "data": {
      "text/plain": [
       "tensor([494.54037476, 326.48706055,  10.41145897,  ...,  55.51983643,\n",
       "         76.86361694, 300.33477783], device='cuda:0')"
      ]
     },
     "execution_count": 24,
     "metadata": {},
     "output_type": "execute_result"
    }
   ],
   "source": [
    "train_target"
   ]
  },
  {
   "cell_type": "code",
   "execution_count": 27,
   "id": "83fe7d5d-351f-4d41-a108-ae2bb8eb1aa9",
   "metadata": {},
   "outputs": [],
   "source": [
    "# 손실 값을 저장할 리스트 초기화\n",
    "train_losses = []\n",
    "val_losses = []"
   ]
  },
  {
   "cell_type": "code",
   "execution_count": 28,
   "id": "da9bf19c-5d81-415c-8095-57ba84ecf230",
   "metadata": {},
   "outputs": [
    {
     "data": {
      "text/plain": [
       "tensor([494.54037476, 326.48706055,  10.41145897,  ...,  55.51983643,\n",
       "         76.86361694, 300.33477783], device='cuda:0')"
      ]
     },
     "execution_count": 28,
     "metadata": {},
     "output_type": "execute_result"
    }
   ],
   "source": [
    "train_target"
   ]
  },
  {
   "cell_type": "code",
   "execution_count": 29,
   "id": "beb0c825-46f9-4e8b-8616-b7ed69cc1b13",
   "metadata": {},
   "outputs": [
    {
     "name": "stdout",
     "output_type": "stream",
     "text": [
      "all_targets[:10]: tensor([494.54037476, 326.48706055,  10.41145897,  27.11094475, 272.62899780,\n",
      "        817.96411133, 339.71627808, 306.31503296, 354.50357056, 277.76501465],\n",
      "       device='cuda:0')\n",
      "Number of zeros in all_targets: 2\n",
      "Target Mean: 237.41278076171875\n",
      "Optimal Loss Upper Bound: 11.870639038085939\n"
     ]
    }
   ],
   "source": [
    "# train_target과 test_target을 하나의 텐서로 합치기\n",
    "all_targets = torch.cat((train_target, val_target))\n",
    "all_targets = torch.cat((all_targets, test_target))\n",
    "\n",
    "# 합쳐진 텐서를 GPU로 이동\n",
    "all_targets = all_targets.to(device)\n",
    "\n",
    "# 텐서가 제대로 합쳐졌는지 확인\n",
    "print(f\"all_targets[:10]: {all_targets[:10]}\")\n",
    "\n",
    "# 합쳐진 텐서에서 0 값의 개수 확인\n",
    "num_zeros_all = torch.sum(all_targets == 0).item()\n",
    "print(f\"Number of zeros in all_targets: {num_zeros_all}\")\n",
    "\n",
    "# 타겟 값의 평균 계산\n",
    "target_mean = torch.mean(all_targets).item()\n",
    "print(f\"Target Mean: {target_mean}\")\n",
    "\n",
    "# 허용 가능한 상대적 오차 설정\n",
    "acceptable_relative_error = 0.05  # 5%\n",
    "\n",
    "# 최적의 손실 값 범위 계산\n",
    "optimal_loss_upper_bound = target_mean * acceptable_relative_error\n",
    "print(f\"Optimal Loss Upper Bound: {optimal_loss_upper_bound}\")\n"
   ]
  },
  {
   "cell_type": "code",
   "execution_count": 30,
   "id": "fb755fef-518c-44db-a24b-4c7b0c7a313b",
   "metadata": {},
   "outputs": [
    {
     "data": {
      "text/plain": [
       "tensor([494.54037476, 326.48706055,  10.41145897,  ...,  55.51983643,\n",
       "         76.86361694, 300.33477783], device='cuda:0')"
      ]
     },
     "execution_count": 30,
     "metadata": {},
     "output_type": "execute_result"
    }
   ],
   "source": [
    "train_target"
   ]
  },
  {
   "cell_type": "code",
   "execution_count": 31,
   "id": "c576cf1e-b3ba-4cb5-bc7b-9dcd01b75a38",
   "metadata": {},
   "outputs": [
    {
     "data": {
      "text/plain": [
       "tensor([494.54037476, 326.48706055,  10.41145897,  ...,   5.00972605,\n",
       "          4.54747105,   4.12547684], device='cuda:0')"
      ]
     },
     "execution_count": 31,
     "metadata": {},
     "output_type": "execute_result"
    }
   ],
   "source": [
    "all_targets"
   ]
  },
  {
   "cell_type": "code",
   "execution_count": 32,
   "id": "570d74c0-d2bc-4d56-bcab-50cf541bdebb",
   "metadata": {},
   "outputs": [
    {
     "name": "stdout",
     "output_type": "stream",
     "text": [
      "Epoch [1/1000], Loss: 13.2269, Test Loss: 16.7721\n",
      "Epoch [11/1000], Loss: 8.6471, Test Loss: 12.8599\n",
      "Epoch [21/1000], Loss: 24.5007, Test Loss: 11.8418\n",
      "Epoch [31/1000], Loss: 13.1919, Test Loss: 11.8071\n",
      "Epoch [41/1000], Loss: 13.5457, Test Loss: 11.0779\n",
      "Epoch [51/1000], Loss: 14.9345, Test Loss: 10.8803\n",
      "Epoch [61/1000], Loss: 9.8016, Test Loss: 10.5301\n",
      "Epoch [71/1000], Loss: 7.8288, Test Loss: 10.2526\n",
      "Epoch [81/1000], Loss: 20.7864, Test Loss: 11.0359\n",
      "Epoch [91/1000], Loss: 17.8735, Test Loss: 10.2077\n",
      "Epoch [101/1000], Loss: 22.0380, Test Loss: 10.4321\n",
      "Epoch [111/1000], Loss: 24.7571, Test Loss: 10.1001\n",
      "Epoch [121/1000], Loss: 32.7499, Test Loss: 9.8410\n",
      "Epoch [131/1000], Loss: 12.7679, Test Loss: 9.8484\n",
      "Epoch [141/1000], Loss: 15.7471, Test Loss: 9.8374\n",
      "Epoch [151/1000], Loss: 13.2855, Test Loss: 10.0811\n",
      "Epoch [161/1000], Loss: 12.6880, Test Loss: 10.0483\n",
      "Early stopping at epoch 171\n"
     ]
    }
   ],
   "source": [
    "# 모델 학습\n",
    "epochs = 1000\n",
    "for epoch in range(epochs):\n",
    "    model.train()\n",
    "    for batch_inputs, batch_targets in train_loader:\n",
    "        batch_inputs, batch_targets = batch_inputs.to(device), batch_targets.to(device)  # 배치 데이터를 GPU로 이동\n",
    "        optimizer.zero_grad()\n",
    "        outputs = model(batch_inputs)\n",
    "        loss = criterion(outputs, batch_targets.unsqueeze(1))  # MAE 손실 계산\n",
    "        loss.backward()\n",
    "        optimizer.step()\n",
    "    \n",
    "    # 검증 손실 계산\n",
    "    model.eval()\n",
    "    val_loss_sum = 0.0\n",
    "    val_batches = 0\n",
    "    with torch.no_grad():\n",
    "        for val_batch_inputs, val_batch_targets in val_loader:\n",
    "            val_batch_inputs, val_batch_targets = val_batch_inputs.to(device), val_batch_targets.to(device)\n",
    "            val_outputs = model(val_batch_inputs)\n",
    "            val_loss = criterion(val_outputs, val_batch_targets.unsqueeze(1))\n",
    "            val_loss_sum += val_loss.item()\n",
    "            val_batches += 1\n",
    "    val_loss_avg = val_loss_sum / val_batches\n",
    "\n",
    "    # 손실 값 저장\n",
    "    train_losses.append(loss.item())\n",
    "    val_losses.append(val_loss_avg)\n",
    "    \n",
    "    if val_loss_avg < best_loss:\n",
    "        best_loss = val_loss_avg\n",
    "        best_model_wts = copy.deepcopy(model.state_dict())\n",
    "        epochs_no_improve = 0\n",
    "    else:\n",
    "        epochs_no_improve += 1\n",
    "    \n",
    "    if epochs_no_improve >= patience:\n",
    "        print(f'Early stopping at epoch {epoch+1}')\n",
    "        break\n",
    "\n",
    "    scheduler.step(val_loss_avg)\n",
    "\n",
    "    # 과대적합: 훈련 손실 < 검증 손실 - 드롭아웃 비율 증가, 층 적게, 규제 크게, \n",
    "    # 과소적합: 훈련 손실, 검증 손실 모두 높고 반대\n",
    "    if epoch % 10 == 0:\n",
    "        print(f'Epoch [{epoch+1}/{epochs}], Loss: {loss.item():.4f}, Test Loss: {val_loss_avg:.4f}')\n"
   ]
  },
  {
   "cell_type": "code",
   "execution_count": 33,
   "id": "4fe0ec1b-dc22-4d5d-8baf-93bd955a2da3",
   "metadata": {},
   "outputs": [
    {
     "data": {
      "text/plain": [
       "<All keys matched successfully>"
      ]
     },
     "execution_count": 33,
     "metadata": {},
     "output_type": "execute_result"
    }
   ],
   "source": [
    "# 가장 성능이 좋은 모델 가중치 로드\n",
    "model.load_state_dict(best_model_wts)"
   ]
  },
  {
   "cell_type": "code",
   "execution_count": 34,
   "id": "1b38f7e3-1aee-47e9-8413-66c3b32fc108",
   "metadata": {},
   "outputs": [
    {
     "data": {
      "image/png": "[encoded data removed]",
      "text/plain": [
       "<Figure size 640x480 with 1 Axes>"
      ]
     },
     "metadata": {},
     "output_type": "display_data"
    }
   ],
   "source": [
    "# 손실 값 그래프 그리기\n",
    "plt.plot(train_losses, label='Training Loss')\n",
    "plt.plot(val_losses, label='Validation Loss')\n",
    "plt.xlabel('Epochs')\n",
    "plt.ylabel('Loss')\n",
    "plt.legend()\n",
    "plt.show()"
   ]
  },
  {
   "cell_type": "code",
   "execution_count": 35,
   "id": "a94b9fa2-cbe0-4ac0-a8b3-262d27512ca7",
   "metadata": {},
   "outputs": [
    {
     "data": {
      "text/plain": [
       "dnn(\n",
       "  (fc1): Linear(in_features=6, out_features=256, bias=True)\n",
       "  (fc2): Linear(in_features=256, out_features=512, bias=True)\n",
       "  (fc3): Linear(in_features=512, out_features=256, bias=True)\n",
       "  (fc4): Linear(in_features=256, out_features=128, bias=True)\n",
       "  (fc5): Linear(in_features=128, out_features=1, bias=True)\n",
       "  (dropout): Dropout(p=0.5, inplace=False)\n",
       ")"
      ]
     },
     "execution_count": 35,
     "metadata": {},
     "output_type": "execute_result"
    }
   ],
   "source": [
    "# 학습된 모델을 평가 모드로 전환 (추론을 위해)\n",
    "model.eval()"
   ]
  },
  {
   "cell_type": "code",
   "execution_count": 36,
   "id": "e2b9b8e3-8b69-4e71-bb8d-a2f71f0763f0",
   "metadata": {},
   "outputs": [
    {
     "name": "stdout",
     "output_type": "stream",
     "text": [
      "Test MAE: 6.4306\n"
     ]
    }
   ],
   "source": [
    "# 테스트 데이터에 대한 예측 및 MAE 계산\n",
    "with torch.no_grad():\n",
    "    test_outputs = model(test_input)\n",
    "    test_loss = criterion(test_outputs, test_target.unsqueeze(1))\n",
    "    predictions = model(test_input.to(device)).cpu().numpy()\n",
    "\n",
    "    print(f'Test MAE: {test_loss.item():.4f}')"
   ]
  },
  {
   "cell_type": "code",
   "execution_count": 69,
   "id": "6b5d6428-ee63-4403-984b-82f2af395233",
   "metadata": {},
   "outputs": [
    {
     "name": "stdout",
     "output_type": "stream",
     "text": [
      "wiset_dnn4.xlsx\n"
     ]
    }
   ],
   "source": [
    "# 테스트 데이터에 예측값 추가\n",
    "tests_df['Predicted_illum'] = predictions\n",
    "\n",
    "\n",
    "# 예측 결과를 엑셀 파일로 저장1\n",
    "tests_df.to_excel(\"wiset_dnn4.xlsx\", index=False)\n",
    "print(\"wiset_dnn4.xlsx\")"
   ]
  },
  {
   "cell_type": "code",
   "execution_count": null,
   "id": "8528f268-a0b4-41ee-99fd-b1502e5ccd6e",
   "metadata": {},
   "outputs": [],
   "source": []
  }
 ],
 "metadata": {
  "kernelspec": {
   "display_name": "Pytorch",
   "language": "python",
   "name": "pytorch"
  },
  "language_info": {
   "codemirror_mode": {
    "name": "ipython",
    "version": 3
   },
   "file_extension": ".py",
   "mimetype": "text/x-python",
   "name": "python",
   "nbconvert_exporter": "python",
   "pygments_lexer": "ipython3",
   "version": "3.8.19"
  }
 },
 "nbformat": 4,
 "nbformat_minor": 5
}
