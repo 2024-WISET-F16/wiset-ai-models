{
 "cells": [
  {
   "cell_type": "code",
   "execution_count": 50,
   "id": "99bf1c08",
   "metadata": {},
   "outputs": [],
   "source": [
    "import torch\n",
    "import pandas as pd\n",
    "import torch.nn as nn\n",
    "import torch.nn.functional as F\n",
    "import torch.optim as optim\n",
    "import torchvision\n",
    "import numpy as np\n",
    "from sklearn.preprocessing import MinMaxScaler\n",
    "import matplotlib.pyplot as plt\n",
    "from sklearn.metrics import mean_absolute_error, mean_squared_error, r2_score\n",
    "\n",
    "# PyTorch 출력 형식 조정\n",
    "torch.set_printoptions(precision=8, threshold=10000, edgeitems=3)"
   ]
  },
  {
   "cell_type": "code",
   "execution_count": 51,
   "id": "4c4440e6",
   "metadata": {},
   "outputs": [],
   "source": [
    "file_path = \"C:/Users/jhh88/Downloads/wiset_train_data_20240329-20240513.xlsx\"\n",
    "file_path1 = \"C:/Users/jhh88/Downloads/wiset_test_data_20240407.xlsx\"\n",
    "\n",
    "df = pd.read_excel(file_path)\n",
    "df1 = pd.read_excel(file_path1)\n",
    "\n",
    "# 데이터프레임의 모든 object 타입 열을 숫자로 변환\n",
    "for col in df.select_dtypes(include=['object']).columns:\n",
    "    df[col] = pd.to_numeric(df[col], errors='coerce')\n",
    "    \n",
    "# 데이터프레임의 모든 object 타입 열을 숫자로 변환\n",
    "for col in df1.select_dtypes(include=['object']).columns:\n",
    "    df1[col] = pd.to_numeric(df1[col], errors='coerce')"
   ]
  },
  {
   "cell_type": "code",
   "execution_count": 52,
   "id": "034a88a9",
   "metadata": {},
   "outputs": [],
   "source": [
    "# 결측값을 0으로 대체 (또는 다른 방법으로 처리)\n",
    "df.fillna(0, inplace=True)\n",
    "df1.fillna(0, inplace=True)\n",
    "\n",
    "# 변환된 결과 타입 확인\n",
    "#print(\"After conversion:\")\n",
    "#print(df.dtypes)\n",
    "\n",
    "# 변환된 데이터 확인\n",
    "#print(\"Converted DataFrame:\")\n",
    "#print(df.head())\n",
    "\n",
    "# 'datetime' 열을 제외한 나머지 열을 numpy 배열로 변환\n",
    "train = df.drop(columns=['datetime']).to_numpy()\n",
    "test = df1.drop(columns=['datetime']).to_numpy()\n",
    "\n",
    "#print(test)"
   ]
  },
  {
   "cell_type": "code",
   "execution_count": 53,
   "id": "7e9ef492",
   "metadata": {},
   "outputs": [],
   "source": [
    "# PyTorch 출력 형식 조정\n",
    "torch.set_printoptions(precision=8, threshold=10000, edgeitems=3)\n",
    "\n",
    "# 데이터 정규화 (Min-Max Scaling)\n",
    "scaler = MinMaxScaler()\n",
    "train = scaler.fit_transform(train)\n",
    "test = scaler.transform(test)\n",
    "\n",
    "# 첫 5개 열을 입력 데이터로 사용\n",
    "x_train = torch.FloatTensor(train[:, :5])\n",
    "x_test = torch.FloatTensor(test[:, :5])\n",
    "\n",
    "# 나머지 열을 출력 데이터로 사용\n",
    "y_train = torch.FloatTensor(train[:, 5:])\n",
    "y_test = torch.FloatTensor(test[:, 5:])\n",
    "\n",
    "#print(x_train)\n",
    "#print(x_test)\n",
    "#print(y_train)\n",
    "#print(y_test)"
   ]
  },
  {
   "cell_type": "code",
   "execution_count": 54,
   "id": "d7a3f23e",
   "metadata": {},
   "outputs": [],
   "source": [
    "# 모델 정의 (복잡도 증가 및 드롭아웃 추가)\n",
    "class SimpleNN(nn.Module):\n",
    "    def __init__(self):\n",
    "        super(SimpleNN, self).__init__()\n",
    "        self.fc1 = nn.Linear(5, 20)\n",
    "        self.dropout1 = nn.Dropout(0.5)\n",
    "        self.fc2 = nn.Linear(20, 10)\n",
    "        self.dropout2 = nn.Dropout(0.5)\n",
    "        self.fc3 = nn.Linear(10, 6)\n",
    "        \n",
    "    def forward(self, x):\n",
    "        x = F.relu(self.fc1(x))\n",
    "        x = self.dropout1(x)\n",
    "        x = F.relu(self.fc2(x))\n",
    "        x = self.dropout2(x)\n",
    "        x = self.fc3(x)\n",
    "        return x\n"
   ]
  },
  {
   "cell_type": "code",
   "execution_count": 55,
   "id": "2d35bd3a",
   "metadata": {},
   "outputs": [],
   "source": [
    "#model = nn.Linear(5,6)\n",
    "model = SimpleNN()\n",
    "#print(model)\n",
    "\n",
    "#print(list(model.parameters()))"
   ]
  },
  {
   "cell_type": "code",
   "execution_count": 56,
   "id": "3f07d960",
   "metadata": {
    "scrolled": true
   },
   "outputs": [
    {
     "name": "stdout",
     "output_type": "stream",
     "text": [
      "Epoch 0/1000 Train Loss: 0.185212 Test Loss: 0.252737\n",
      "Epoch 100/1000 Train Loss: 0.016761 Test Loss: 0.015435\n",
      "Epoch 200/1000 Train Loss: 0.012057 Test Loss: 0.007817\n",
      "Epoch 300/1000 Train Loss: 0.011379 Test Loss: 0.007729\n",
      "Epoch 400/1000 Train Loss: 0.010980 Test Loss: 0.007689\n",
      "Epoch 500/1000 Train Loss: 0.010598 Test Loss: 0.006127\n",
      "Epoch 600/1000 Train Loss: 0.010377 Test Loss: 0.006277\n",
      "Epoch 700/1000 Train Loss: 0.010506 Test Loss: 0.007175\n",
      "Epoch 800/1000 Train Loss: 0.010473 Test Loss: 0.006179\n",
      "Epoch 900/1000 Train Loss: 0.010343 Test Loss: 0.005982\n",
      "Epoch 1000/1000 Train Loss: 0.010168 Test Loss: 0.006448\n"
     ]
    }
   ],
   "source": [
    "# 학습률(lr): 한 번 움직이는 거리\n",
    "# Adam 옵티마이저 사용 (SGD 대신)\n",
    "optimizer = optim.Adam(model.parameters(), lr=1e-2, weight_decay=1e-5)  # L2 정규화 추가\n",
    "\n",
    "# 조기 종료 설정\n",
    "early_stopping_patience = 10\n",
    "best_test_loss = float('inf')\n",
    "epochs_no_improve = 0\n",
    "\n",
    "#학습\n",
    "epochs = 1000\n",
    "train_score = []\n",
    "test_score = []\n",
    "\n",
    "for epoch in range(epochs + 1):\n",
    "    model.train()\n",
    "    # 순방향 전파\n",
    "    y_pred = model(x_train)\n",
    "    loss = nn.MSELoss()(y_pred, y_train)\n",
    "    optimizer.zero_grad() #gradient를 초기화\n",
    "    loss.backward() # 역전파: 미분값을 정하고 방향을 찾은 다음 주어진 lr만큼 이동하며 얻은 기울기와 절편을 계산\n",
    "    optimizer.step()\n",
    "    \n",
    "    train_score.append(loss.item())\n",
    "    \n",
    "    if epoch % 100 == 0:\n",
    "        model.eval()\n",
    "        with torch.no_grad():\n",
    "            y_test_pred = model(x_test)\n",
    "            test_loss = nn.MSELoss()(y_test_pred, y_test)\n",
    "            test_score.append(test_loss.item())\n",
    "            print(f'Epoch {epoch}/{epochs} Train Loss: {loss.item():.6f} Test Loss: {test_loss.item():.6f}')\n",
    "            \n",
    "            # 조기 종료 확인\n",
    "            if test_loss < best_test_loss:\n",
    "                best_test_loss = test_loss\n",
    "                epochs_no_improve = 0\n",
    "            else:\n",
    "                epochs_no_improve += 1\n",
    "                if epochs_no_improve >= early_stopping_patience:\n",
    "                    print(\"Early stopping triggered\")\n",
    "                    break\n",
    "                    \n",
    "        model.train()"
   ]
  },
  {
   "cell_type": "code",
   "execution_count": 61,
   "id": "7d3babb1",
   "metadata": {},
   "outputs": [
    {
     "name": "stdout",
     "output_type": "stream",
     "text": [
      "Test Loss: 0.006448\n"
     ]
    }
   ],
   "source": [
    "# 테스트 데이터로 모델 평가\n",
    "model.eval()\n",
    "with torch.no_grad():\n",
    "    y_test_pred = model(x_test)\n",
    "    test_loss = nn.MSELoss()(y_test_pred, y_test)\n",
    "    #test_score.append(test_loss.item())\n",
    "    print(f'Test Loss: {test_loss.item():.6f}')\n",
    "    \n"
   ]
  },
  {
   "cell_type": "code",
   "execution_count": 62,
   "id": "8ce69451",
   "metadata": {},
   "outputs": [
    {
     "name": "stdout",
     "output_type": "stream",
     "text": [
      "Mean Squared Error: 0.006448435131460428\n",
      "R^2 Score: 0.900275080503197\n",
      "Mean Absolute Error: 0.06330730766057968\n"
     ]
    }
   ],
   "source": [
    "# 모델 평가 지표\n",
    "# MeanSquared Error : 값이 낮을수록 예측값 = 실제 값\n",
    "mse = mean_squared_error(y_test.numpy(), y_test_pred.numpy())\n",
    "\n",
    "# R^2 Sccre : 1에 가까울수록 모델이 데이터를 잘 설명함\n",
    "r2 = r2_score(y_test.numpy(), y_test_pred.numpy())\n",
    "\n",
    "# Mean Absolute Error : 평균 절대 오차. \n",
    "# 값이 낮으면 모델이 대부분의 경우에 정확한 예측을 한다는 뜻\n",
    "mae = mean_absolute_error(y_test.numpy(), y_test_pred.numpy())\n",
    "\n",
    "print(f'Mean Squared Error: {mse}')\n",
    "print(f'R^2 Score: {r2}')\n",
    "print(f'Mean Absolute Error: {mae}')"
   ]
  },
  {
   "cell_type": "code",
   "execution_count": 63,
   "id": "7c6434a0",
   "metadata": {},
   "outputs": [
    {
     "data": {
      "image/png": "[encoded data removed]",
      "text/plain": [
       "<Figure size 640x480 with 1 Axes>"
      ]
     },
     "metadata": {},
     "output_type": "display_data"
    }
   ],
   "source": [
    "# 손실 값 시각화\n",
    "plt.plot(train_score)\n",
    "plt.plot(np.arange(0, len(test_score) * 100, 100), test_score, label='Test Loss')\n",
    "plt.xlabel('Epoch')\n",
    "plt.ylabel('Loss')\n",
    "plt.title('Training Loss Over Time')\n",
    "plt.legend()\n",
    "plt.show()"
   ]
  },
  {
   "cell_type": "code",
   "execution_count": null,
   "id": "f435cde5",
   "metadata": {},
   "outputs": [],
   "source": []
  }
 ],
 "metadata": {
  "kernelspec": {
   "display_name": "Pytorch",
   "language": "python",
   "name": "pytorch"
  },
  "language_info": {
   "codemirror_mode": {
    "name": "ipython",
    "version": 3
   },
   "file_extension": ".py",
   "mimetype": "text/x-python",
   "name": "python",
   "nbconvert_exporter": "python",
   "pygments_lexer": "ipython3",
   "version": "3.11.9"
  }
 },
 "nbformat": 4,
 "nbformat_minor": 5
}
